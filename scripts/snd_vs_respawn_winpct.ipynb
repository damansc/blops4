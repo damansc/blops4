{
 "cells": [
  {
   "cell_type": "code",
   "execution_count": 1,
   "metadata": {},
   "outputs": [],
   "source": [
    "import pandas as pd\n",
    "import os\n",
    "import seaborn as sns\n",
    "import matplotlib.pyplot as plt"
   ]
  },
  {
   "cell_type": "code",
   "execution_count": 2,
   "metadata": {},
   "outputs": [
    {
     "data": {
      "text/plain": [
       "'C:\\\\Users\\\\daman\\\\Desktop\\\\blops4'"
      ]
     },
     "execution_count": 2,
     "metadata": {},
     "output_type": "execute_result"
    }
   ],
   "source": [
    "os.chdir('../')\n",
    "os.getcwd()"
   ]
  },
  {
   "cell_type": "code",
   "execution_count": 15,
   "metadata": {},
   "outputs": [],
   "source": [
    "pl1 = pd.read_csv('data_imports/proleague1.csv')"
   ]
  },
  {
   "cell_type": "code",
   "execution_count": 20,
   "metadata": {},
   "outputs": [],
   "source": [
    "snd = pl1[pl1['mode'] == 'Search & Destroy'].copy()\n",
    "resp = pl1[pl1['mode'] != 'Search & Destroy'].copy()"
   ]
  },
  {
   "cell_type": "code",
   "execution_count": 21,
   "metadata": {},
   "outputs": [],
   "source": [
    "snd['win?'].replace(('W', 'L'), (1,0), inplace=True)\n",
    "resp['win?'].replace(('W', 'L'), (1,0), inplace=True)"
   ]
  },
  {
   "cell_type": "code",
   "execution_count": 38,
   "metadata": {},
   "outputs": [],
   "source": [
    "snd_pct = pd.DataFrame(snd.groupby('team')['win?'].mean())\n",
    "resp_pct = pd.DataFrame(resp.groupby('team')['win?'].mean())\n",
    "snd_pct.columns = ['snd win pct']\n",
    "resp_pct.columns = ['resp win pct']"
   ]
  },
  {
   "cell_type": "code",
   "execution_count": 53,
   "metadata": {},
   "outputs": [
    {
     "data": {
      "text/html": [
       "<div>\n",
       "<style scoped>\n",
       "    .dataframe tbody tr th:only-of-type {\n",
       "        vertical-align: middle;\n",
       "    }\n",
       "\n",
       "    .dataframe tbody tr th {\n",
       "        vertical-align: top;\n",
       "    }\n",
       "\n",
       "    .dataframe thead th {\n",
       "        text-align: right;\n",
       "    }\n",
       "</style>\n",
       "<table border=\"1\" class=\"dataframe\">\n",
       "  <thead>\n",
       "    <tr style=\"text-align: right;\">\n",
       "      <th></th>\n",
       "      <th>snd win pct</th>\n",
       "      <th>resp win pct</th>\n",
       "      <th>snd - resp</th>\n",
       "    </tr>\n",
       "    <tr>\n",
       "      <th>team</th>\n",
       "      <th></th>\n",
       "      <th></th>\n",
       "      <th></th>\n",
       "    </tr>\n",
       "  </thead>\n",
       "  <tbody>\n",
       "    <tr>\n",
       "      <th>Excelerate</th>\n",
       "      <td>0.600000</td>\n",
       "      <td>0.071429</td>\n",
       "      <td>0.528571</td>\n",
       "    </tr>\n",
       "    <tr>\n",
       "      <th>Gen.G</th>\n",
       "      <td>1.000000</td>\n",
       "      <td>0.476190</td>\n",
       "      <td>0.523810</td>\n",
       "    </tr>\n",
       "    <tr>\n",
       "      <th>Reciprocity</th>\n",
       "      <td>0.700000</td>\n",
       "      <td>0.200000</td>\n",
       "      <td>0.500000</td>\n",
       "    </tr>\n",
       "    <tr>\n",
       "      <th>eUnited</th>\n",
       "      <td>0.700000</td>\n",
       "      <td>0.526316</td>\n",
       "      <td>0.173684</td>\n",
       "    </tr>\n",
       "    <tr>\n",
       "      <th>Denial</th>\n",
       "      <td>0.375000</td>\n",
       "      <td>0.350000</td>\n",
       "      <td>0.025000</td>\n",
       "    </tr>\n",
       "    <tr>\n",
       "      <th>Red Reserve</th>\n",
       "      <td>0.625000</td>\n",
       "      <td>0.611111</td>\n",
       "      <td>0.013889</td>\n",
       "    </tr>\n",
       "    <tr>\n",
       "      <th>Splyce</th>\n",
       "      <td>0.555556</td>\n",
       "      <td>0.550000</td>\n",
       "      <td>0.005556</td>\n",
       "    </tr>\n",
       "    <tr>\n",
       "      <th>ExcelerateGG</th>\n",
       "      <td>0.500000</td>\n",
       "      <td>0.500000</td>\n",
       "      <td>0.000000</td>\n",
       "    </tr>\n",
       "    <tr>\n",
       "      <th>Heretics</th>\n",
       "      <td>0.555556</td>\n",
       "      <td>0.578947</td>\n",
       "      <td>-0.023392</td>\n",
       "    </tr>\n",
       "    <tr>\n",
       "      <th>Luminosity</th>\n",
       "      <td>0.454545</td>\n",
       "      <td>0.500000</td>\n",
       "      <td>-0.045455</td>\n",
       "    </tr>\n",
       "    <tr>\n",
       "      <th>Team Envy</th>\n",
       "      <td>0.500000</td>\n",
       "      <td>0.550000</td>\n",
       "      <td>-0.050000</td>\n",
       "    </tr>\n",
       "    <tr>\n",
       "      <th>OpTic Gaming</th>\n",
       "      <td>0.500000</td>\n",
       "      <td>0.578947</td>\n",
       "      <td>-0.078947</td>\n",
       "    </tr>\n",
       "    <tr>\n",
       "      <th>100 Thieves</th>\n",
       "      <td>0.500000</td>\n",
       "      <td>0.764706</td>\n",
       "      <td>-0.264706</td>\n",
       "    </tr>\n",
       "    <tr>\n",
       "      <th>Enigma6</th>\n",
       "      <td>0.222222</td>\n",
       "      <td>0.526316</td>\n",
       "      <td>-0.304094</td>\n",
       "    </tr>\n",
       "    <tr>\n",
       "      <th>UYU</th>\n",
       "      <td>0.222222</td>\n",
       "      <td>0.526316</td>\n",
       "      <td>-0.304094</td>\n",
       "    </tr>\n",
       "    <tr>\n",
       "      <th>Midnight</th>\n",
       "      <td>0.444444</td>\n",
       "      <td>0.764706</td>\n",
       "      <td>-0.320261</td>\n",
       "    </tr>\n",
       "    <tr>\n",
       "      <th>Evil Geniuses</th>\n",
       "      <td>0.000000</td>\n",
       "      <td>0.388889</td>\n",
       "      <td>-0.388889</td>\n",
       "    </tr>\n",
       "  </tbody>\n",
       "</table>\n",
       "</div>"
      ],
      "text/plain": [
       "               snd win pct  resp win pct  snd - resp\n",
       "team                                                \n",
       "Excelerate        0.600000      0.071429    0.528571\n",
       "Gen.G             1.000000      0.476190    0.523810\n",
       "Reciprocity       0.700000      0.200000    0.500000\n",
       "eUnited           0.700000      0.526316    0.173684\n",
       "Denial            0.375000      0.350000    0.025000\n",
       "Red Reserve       0.625000      0.611111    0.013889\n",
       "Splyce            0.555556      0.550000    0.005556\n",
       "ExcelerateGG      0.500000      0.500000    0.000000\n",
       "Heretics          0.555556      0.578947   -0.023392\n",
       "Luminosity        0.454545      0.500000   -0.045455\n",
       "Team Envy         0.500000      0.550000   -0.050000\n",
       "OpTic Gaming      0.500000      0.578947   -0.078947\n",
       "100 Thieves       0.500000      0.764706   -0.264706\n",
       "Enigma6           0.222222      0.526316   -0.304094\n",
       "UYU               0.222222      0.526316   -0.304094\n",
       "Midnight          0.444444      0.764706   -0.320261\n",
       "Evil Geniuses     0.000000      0.388889   -0.388889"
      ]
     },
     "execution_count": 53,
     "metadata": {},
     "output_type": "execute_result"
    }
   ],
   "source": [
    "win_pct = pd.concat([snd_pct, resp_pct], axis=1)\n",
    "win_pct['snd - resp'] = win_pct['snd win pct']-win_pct['resp win pct']\n",
    "win_pct = win_pct.sort_values('snd - resp', ascending=False)\n",
    "win_pct"
   ]
  },
  {
   "cell_type": "code",
   "execution_count": 50,
   "metadata": {},
   "outputs": [
    {
     "data": {
      "text/plain": [
       "<matplotlib.axes._subplots.AxesSubplot at 0x22709bcb160>"
      ]
     },
     "execution_count": 50,
     "metadata": {},
     "output_type": "execute_result"
    },
    {
     "data": {
      "image/png": "[encoded data removed]",
      "text/plain": [
       "<Figure size 432x288 with 1 Axes>"
      ]
     },
     "metadata": {
      "needs_background": "light"
     },
     "output_type": "display_data"
    }
   ],
   "source": [
    "win_pct.boxplot()"
   ]
  },
  {
   "cell_type": "code",
   "execution_count": null,
   "metadata": {},
   "outputs": [],
   "source": []
  }
 ],
 "metadata": {
  "kernelspec": {
   "display_name": "Python 3",
   "language": "python",
   "name": "python3"
  },
  "language_info": {
   "codemirror_mode": {
    "name": "ipython",
    "version": 3
   },
   "file_extension": ".py",
   "mimetype": "text/x-python",
   "name": "python",
   "nbconvert_exporter": "python",
   "pygments_lexer": "ipython3",
   "version": "3.7.3"
  }
 },
 "nbformat": 4,
 "nbformat_minor": 2
}
