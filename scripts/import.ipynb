{
 "cells": [
  {
   "cell_type": "code",
   "execution_count": 9,
   "metadata": {},
   "outputs": [
    {
     "data": {
      "text/plain": [
       "'C:\\\\Users\\\\daman\\\\Desktop\\\\blops4'"
      ]
     },
     "execution_count": 9,
     "metadata": {},
     "output_type": "execute_result"
    }
   ],
   "source": [
    "import os\n",
    "import pandas as pd\n",
    "\n",
    "os.chdir('./blops4')"
   ]
  },
  {
   "cell_type": "code",
   "execution_count": 96,
   "metadata": {},
   "outputs": [
    {
     "data": {
      "text/plain": [
       "['data-2019-01-20-proleague-qual.csv', 'data-2019-07-05-proleague.csv']"
      ]
     },
     "execution_count": 96,
     "metadata": {},
     "output_type": "execute_result"
    }
   ],
   "source": [
    "# initializing the needed paths for importing the data. As of this update (4/21/19) there are only\n",
    "#  two events available as seen in DATA_FILES subsetting and EVENT_NAMES. Could look for a better way\n",
    "#   of doing this operation to reduce the manual changes needed to update new data once it is released.\n",
    "EVENT_FOLDER = './activision_github/cwl-data/data/'\n",
    "EVENT_FILES = os.listdir(EVENT_FOLDER)\n",
    "EVENT_FILES\n",
    "DATA_FILES = EVENT_FILES[-4:-2]\n",
    "EVENT_NAMES = ['Qualifier', 'Pro League 1',]\n",
    "COPY_FOLDER = './data_imports/'\n",
    "\n",
    "\n",
    "matchers = ['2019-01-20','2019-07-05']\n",
    "matching = [s for s in EVENT_FILES if any(xs in s for xs in matchers)]\n",
    "matching"
   ]
  },
  {
   "cell_type": "code",
   "execution_count": 97,
   "metadata": {},
   "outputs": [
    {
     "name": "stdout",
     "output_type": "stream",
     "text": [
      "              match id series id                 end time  duration (s)  \\\n",
      "0  1952829497880214366  pool-B-2  2019-01-16 18:08:38 UTC           581   \n",
      "\n",
      "      mode      map             team player win?  score  ...  \\\n",
      "0  Control  Seaside  Fact Revolution  Cammy    W      3  ...   \n",
      "\n",
      "   ctrl firstdeaths  ctrl captures  2-piece  3-piece  4-piece  4-streak  \\\n",
      "0                 0              2        4        2        0         0   \n",
      "\n",
      "   5-streak  6-streak  7-streak  8+-streak  \n",
      "0         0         0         1          0  \n",
      "\n",
      "[1 rows x 61 columns]\n",
      "                 match id series id                 end time  duration (s)  \\\n",
      "0  missing-pro-w1-1-map-1  pro-w1-1  2019-02-04 18:22:38 UTC           446   \n",
      "\n",
      "        mode      map         team player win?  score  ...  ctrl firstdeaths  \\\n",
      "0  Hardpoint  Arsenal  Reciprocity   Denz    L     93  ...                 0   \n",
      "\n",
      "   ctrl captures  2-piece  3-piece  4-piece  4-streak  5-streak  6-streak  \\\n",
      "0              0        0        0        0         0         0         0   \n",
      "\n",
      "   7-streak  8+-streak  \n",
      "0         0          0  \n",
      "\n",
      "[1 rows x 61 columns]\n"
     ]
    }
   ],
   "source": [
    "data_list = []\n",
    "\n",
    "# importing in data from the github repository.\n",
    "for x in DATA_FILES:\n",
    "    with open('{}{}'.format(EVENT_FOLDER, x)) as c:\n",
    "            temp = pd.read_csv(c)\n",
    "            data_list.append(temp)\n",
    "\n",
    "# converting imported data into the dataframe structure.\n",
    "for x in data_list:\n",
    "    x = pd.DataFrame(x)\n",
    "\n",
    "# associating each data import with its corresponding name.\n",
    "event_dict = dict(zip(EVENT_NAMES, data_list))\n",
    "\n",
    "# making a meta df with all of the vents in one dataframe\n",
    "meta = pd.concat(event_dict, axis=0)\n",
    "                \n",
    "# writing imported files to data_imports folder to properly account for any vintage changes (version control).\n",
    "# this chunk needs to be done via a loop as it is ineffecient to manually do each event in data_list.\n",
    "event_dict['Qualifier'].to_csv('{}{}'.format(COPY_FOLDER, 'qualifier.csv'))\n",
    "event_dict['Pro League 1'].to_csv('{}{}'.format(COPY_FOLDER, 'proleague1.csv'))\n",
    "\n",
    "\n"
   ]
  },
  {
   "cell_type": "code",
   "execution_count": 100,
   "metadata": {},
   "outputs": [],
   "source": [
    "def import_cwl(Dates = [], PICKUP_FOLDER='./activision_github/cwl-data/data/', COPY_FOLDER='./data_imports/'):\n",
    "    EVENT_FILES = os.listdir(PICKUP_FOLDER)\n",
    "    DATA_FILES = [s for s in EVENT_FILES if any(xs in s for xs in Dates)]\n",
    "    data_list = []\n",
    "    \n",
    "    for x in DATA_FILES:\n",
    "        with open('{}{}'.format(PICKUP_FOLDER, x)) as c:\n",
    "            temp = pd.read_csv(c)\n",
    "            data_list.append(temp)\n",
    "    \n",
    "    for x in data_list:\n",
    "        x = pd.DataFrame(x)\n",
    "        \n",
    "    meta = pd.concat(data_list, axis=0)\n",
    "    \n",
    "    for x in data_list:\n",
    "        for i in EVENT_FILES:\n",
    "            x.to_csv('{}{}'.format(COPY_FOLDER, i))\n",
    "    "
   ]
  },
  {
   "cell_type": "code",
   "execution_count": null,
   "metadata": {},
   "outputs": [],
   "source": []
  }
 ],
 "metadata": {
  "kernelspec": {
   "display_name": "Python 3",
   "language": "python",
   "name": "python3"
  },
  "language_info": {
   "codemirror_mode": {
    "name": "ipython",
    "version": 3
   },
   "file_extension": ".py",
   "mimetype": "text/x-python",
   "name": "python",
   "nbconvert_exporter": "python",
   "pygments_lexer": "ipython3",
   "version": "3.7.3"
  }
 },
 "nbformat": 4,
 "nbformat_minor": 2
}
