{
 "cells": [
  {
   "cell_type": "code",
   "execution_count": 9,
   "metadata": {},
   "outputs": [
    {
     "data": {
      "text/plain": [
       "'C:\\\\Users\\\\daman\\\\Desktop\\\\blops4'"
      ]
     },
     "execution_count": 9,
     "metadata": {},
     "output_type": "execute_result"
    }
   ],
   "source": [
    "import os\n",
    "import pandas as pd\n",
    "\n",
    "os.chdir('./blops4')"
   ]
  },
  {
   "cell_type": "code",
   "execution_count": 84,
   "metadata": {},
   "outputs": [],
   "source": [
    "# initializing the needed paths for importing the data. As of this update (4/21/19) there are only\n",
    "#  two events available as seen in DATA_FILES subsetting and EVENT_NAMES. Could look for a better way\n",
    "#   of doing this operation to reduce the manual changes needed to update new data once it is released.\n",
    "EVENT_FOLDER = './activision_github/cwl-data/data/'\n",
    "EVENT_FILES = os.listdir(EVENT_FOLDER)\n",
    "EVENT_FILES\n",
    "DATA_FILES = EVENT_FILES[-4:-2]\n",
    "EVENT_NAMES = ['Qualifier', 'Pro League 1',]\n",
    "COPY_FOLDER = './data_imports/'"
   ]
  },
  {
   "cell_type": "code",
   "execution_count": 88,
   "metadata": {},
   "outputs": [],
   "source": [
    "data_list = []\n",
    "\n",
    "# importing in data from the github repository.\n",
    "for x in DATA_FILES:\n",
    "    with open('{}{}'.format(EVENT_FOLDER, x)) as c:\n",
    "            temp = pd.read_csv(c)\n",
    "            data_list.append(temp)\n",
    "\n",
    "# converting imported data into the dataframe structure.\n",
    "for x in data_list:\n",
    "    x = pd.DataFrame(x)\n",
    "\n",
    "# associating each data import with its corresponding name.\n",
    "event_dict = dict(zip(EVENT_NAMES, data_list))\n",
    "\n",
    "# making a meta df with all of the vents in one dataframe\n",
    "meta = pd.concat(event_dict, axis=0)\n",
    "                \n",
    "# writing imported files to data_imports folder to properly account for any vintage changes (version control).\n",
    "# this chunk needs to be done via a loop as it is ineffecient to manually do each event in data_list.\n",
    "event_dict['Qualifier'].to_csv('{}{}'.format(COPY_FOLDER, 'qualifier.csv'))\n",
    "event_dict['Pro League 1'].to_csv('{}{}'.format(COPY_FOLDER, 'proleague1.csv'))"
   ]
  }
 ],
 "metadata": {
  "kernelspec": {
   "display_name": "Python 3",
   "language": "python",
   "name": "python3"
  },
  "language_info": {
   "codemirror_mode": {
    "name": "ipython",
    "version": 3
   },
   "file_extension": ".py",
   "mimetype": "text/x-python",
   "name": "python",
   "nbconvert_exporter": "python",
   "pygments_lexer": "ipython3",
   "version": "3.7.3"
  }
 },
 "nbformat": 4,
 "nbformat_minor": 2
}
