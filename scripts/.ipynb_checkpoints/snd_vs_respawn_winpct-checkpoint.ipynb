{
 "cells": [
  {
   "cell_type": "code",
   "execution_count": 1,
   "metadata": {},
   "outputs": [],
   "source": [
    "import pandas as pd\n",
    "import os\n",
    "import seaborn as sns\n",
    "import matplotlib.pyplot as plt"
   ]
  },
  {
   "cell_type": "code",
   "execution_count": 2,
   "metadata": {},
   "outputs": [
    {
     "data": {
      "text/plain": [
       "'C:\\\\Users\\\\daman\\\\Desktop\\\\blops4'"
      ]
     },
     "execution_count": 2,
     "metadata": {},
     "output_type": "execute_result"
    }
   ],
   "source": [
    "os.chdir('../')\n",
    "os.getcwd()"
   ]
  },
  {
   "cell_type": "code",
   "execution_count": 15,
   "metadata": {},
   "outputs": [],
   "source": [
    "pl1 = pd.read_csv('data_imports/proleague1.csv')"
   ]
  },
  {
   "cell_type": "code",
   "execution_count": 20,
   "metadata": {},
   "outputs": [],
   "source": [
    "snd = pl1[pl1['mode'] == 'Search & Destroy'].copy()\n",
    "resp = pl1[pl1['mode'] != 'Search & Destroy'].copy()"
   ]
  },
  {
   "cell_type": "code",
   "execution_count": 21,
   "metadata": {},
   "outputs": [],
   "source": [
    "snd['win?'].replace(('W', 'L'), (1,0), inplace=True)\n",
    "resp['win?'].replace(('W', 'L'), (1,0), inplace=True)"
   ]
  },
  {
   "cell_type": "code",
   "execution_count": 25,
   "metadata": {},
   "outputs": [],
   "source": [
    "snd_pct = snd.groupby('team')['win?'].mean()\n",
    "resp_pct = resp.groupby('team')['win?'].mean()"
   ]
  },
  {
   "cell_type": "code",
   "execution_count": 27,
   "metadata": {},
   "outputs": [
    {
     "data": {
      "text/plain": [
       "team\n",
       "100 Thieves      0.764706\n",
       "Denial           0.350000\n",
       "Enigma6          0.526316\n",
       "Evil Geniuses    0.388889\n",
       "Excelerate       0.071429\n",
       "ExcelerateGG     0.500000\n",
       "Gen.G            0.476190\n",
       "Heretics         0.578947\n",
       "Luminosity       0.500000\n",
       "Midnight         0.764706\n",
       "OpTic Gaming     0.578947\n",
       "Reciprocity      0.200000\n",
       "Red Reserve      0.611111\n",
       "Splyce           0.550000\n",
       "Team Envy        0.550000\n",
       "UYU              0.526316\n",
       "eUnited          0.526316\n",
       "Name: win?, dtype: float64"
      ]
     },
     "execution_count": 27,
     "metadata": {},
     "output_type": "execute_result"
    }
   ],
   "source": []
  },
  {
   "cell_type": "code",
   "execution_count": null,
   "metadata": {},
   "outputs": [],
   "source": []
  }
 ],
 "metadata": {
  "kernelspec": {
   "display_name": "Python 3",
   "language": "python",
   "name": "python3"
  },
  "language_info": {
   "codemirror_mode": {
    "name": "ipython",
    "version": 3
   },
   "file_extension": ".py",
   "mimetype": "text/x-python",
   "name": "python",
   "nbconvert_exporter": "python",
   "pygments_lexer": "ipython3",
   "version": "3.7.3"
  }
 },
 "nbformat": 4,
 "nbformat_minor": 2
}
