{
 "cells": [
  {
   "cell_type": "markdown",
   "metadata": {},
   "source": [
    "Read notes after coding blocks for needed changes and or updates. The goal is to create a running list of every event for the entirety of black ops 4. That will require recoding as currently only qualifier and pro league 1 stats are available. The code below will need to be redone to effeciently incorporate new events as they become available."
   ]
  },
  {
   "cell_type": "code",
   "execution_count": 1,
   "metadata": {},
   "outputs": [
    {
     "data": {
      "text/plain": [
       "'C:\\\\Users\\\\daman\\\\Desktop\\\\blops4\\\\scripts'"
      ]
     },
     "execution_count": 1,
     "metadata": {},
     "output_type": "execute_result"
    }
   ],
   "source": [
    "import pandas as pd\n",
    "import numpy as np\n",
    "import os\n",
    "os.getcwd()"
   ]
  },
  {
   "cell_type": "code",
   "execution_count": 2,
   "metadata": {},
   "outputs": [
    {
     "data": {
      "text/plain": [
       "'C:\\\\Users\\\\daman\\\\Desktop\\\\blops4'"
      ]
     },
     "execution_count": 2,
     "metadata": {},
     "output_type": "execute_result"
    }
   ],
   "source": [
    "os.chdir('../')\n",
    "os.getcwd()"
   ]
  },
  {
   "cell_type": "code",
   "execution_count": 3,
   "metadata": {},
   "outputs": [],
   "source": [
    "qual = pd.read_csv('./data_imports/qualifier.csv')\n",
    "pl1 = pd.read_csv('./data_imports/proleague1.csv')"
   ]
  },
  {
   "cell_type": "markdown",
   "metadata": {},
   "source": [
    "Grouping each dataset by player and aggregating the mean kill-death ratio per match."
   ]
  },
  {
   "cell_type": "code",
   "execution_count": null,
   "metadata": {},
   "outputs": [],
   "source": [
    "qual_kd = qual.groupby('player').agg({'k/d': 'mean'}).sort_index()\n",
    "pl1_kd = pl1.groupby('player').agg({'k/d': 'mean'}).sort_index()"
   ]
  },
  {
   "cell_type": "markdown",
   "metadata": {},
   "source": [
    "Ensuring that no datapoints are missing."
   ]
  },
  {
   "cell_type": "code",
   "execution_count": 178,
   "metadata": {},
   "outputs": [
    {
     "name": "stdout",
     "output_type": "stream",
     "text": [
      "k/d    0\n",
      "dtype: int64 pro league 1    0\n",
      "dtype: int64\n"
     ]
    }
   ],
   "source": [
    "print(qual_kd.isna().sum(), pl1_kd.isna().sum())"
   ]
  },
  {
   "cell_type": "markdown",
   "metadata": {},
   "source": [
    "Creating a list of players who made it into the pro league. Then pulling these players out of the qualifier dataset that also contains players who did not make the pro league. Final steop is concatenating the two datasets into one dataframe.\n",
    "\n",
    "(look at the code below and change/simplify as it definitely is not the cleanest and effecient method)"
   ]
  },
  {
   "cell_type": "code",
   "execution_count": 110,
   "metadata": {},
   "outputs": [],
   "source": [
    "track_list = list(pl1_kd.index)\n",
    "constant = []\n",
    "for x in qual_kd.index:\n",
    "    if x in track_list:\n",
    "        test = pd.DataFrame(qual_kd.loc[x]).T\n",
    "        constant.append(test)\n",
    "\n",
    "constant = pd.concat(constant)\n",
    "\n",
    "constant.rename(columns={'k/d': 'qualifier'}, inplace=True)\n",
    "pl1_kd.rename(columns={'k/d': 'pro league 1'}, inplace=True\n",
    "\n",
    "running_list = pd.merge(constant, pl1_kd, left_index=True, right_index=True)"
   ]
  },
  {
   "cell_type": "markdown",
   "metadata": {},
   "source": [
    "creating a percent change column between the qualifier and pro league 1 for each player. Then creating a list of the top 10 improvers and the top 10 regressors."
   ]
  },
  {
   "cell_type": "code",
   "execution_count": 176,
   "metadata": {},
   "outputs": [],
   "source": [
    "running_list['pct difference.1'] = pd.DataFrame((running_list['qualifier']-running_list['pro league 1'])/running_list['qualifier'])\n",
    "top_10 = running_list['pct difference.1'].nlargest(10)\n",
    "bottom_10 = running_list['pct difference.1'].nsmallest(10)"
   ]
  },
  {
   "cell_type": "code",
   "execution_count": 177,
   "metadata": {},
   "outputs": [
    {
     "name": "stdout",
     "output_type": "stream",
     "text": [
      "Zed          0.441850\n",
      "Faccento     0.432492\n",
      "Skrapz       0.422145\n",
      "Royalty      0.406789\n",
      "Tommey       0.403042\n",
      "Fastballa    0.381674\n",
      "Kismet       0.315688\n",
      "Envoy        0.266655\n",
      "Breszy       0.246360\n",
      "Wailers      0.243311\n",
      "Name: pct difference.1, dtype: float64 Maux       -0.355768\n",
      "Havok      -0.306837\n",
      "Priestah   -0.244303\n",
      "Aches      -0.139275\n",
      "Nagafen    -0.127869\n",
      "Slasher    -0.110206\n",
      "Octane     -0.100809\n",
      "SpaceLy    -0.095928\n",
      "Sukry      -0.084781\n",
      "Joee       -0.049976\n",
      "Name: pct difference.1, dtype: float64\n"
     ]
    }
   ],
   "source": [
    "print(top_10, bottom_10)"
   ]
  },
  {
   "cell_type": "markdown",
   "metadata": {},
   "source": [
    "Updates/Changes:\n",
    "\n",
    "- clean loops and code blocks to make more effecient and organzied.\n",
    "- reformat to incorporate automation for bringing in new data.\n",
    "- begin the creation of graphics for analysis of the entire season."
   ]
  }
 ],
 "metadata": {
  "kernelspec": {
   "display_name": "Python 3",
   "language": "python",
   "name": "python3"
  },
  "language_info": {
   "codemirror_mode": {
    "name": "ipython",
    "version": 3
   },
   "file_extension": ".py",
   "mimetype": "text/x-python",
   "name": "python",
   "nbconvert_exporter": "python",
   "pygments_lexer": "ipython3",
   "version": "3.7.3"
  }
 },
 "nbformat": 4,
 "nbformat_minor": 2
}
