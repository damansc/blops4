{
 "cells": [
  {
   "cell_type": "code",
   "execution_count": 1,
   "metadata": {},
   "outputs": [],
   "source": [
    "import pandas as pd\n",
    "import matplotlib.pyplot as plt\n",
    "import os"
   ]
  },
  {
   "cell_type": "code",
   "execution_count": 2,
   "metadata": {},
   "outputs": [
    {
     "data": {
      "text/plain": [
       "'C:\\\\Users\\\\daman\\\\Desktop\\\\blops4'"
      ]
     },
     "execution_count": 2,
     "metadata": {},
     "output_type": "execute_result"
    }
   ],
   "source": [
    "os.chdir('../')\n",
    "os.getcwd()"
   ]
  },
  {
   "cell_type": "code",
   "execution_count": 3,
   "metadata": {},
   "outputs": [
    {
     "data": {
      "text/html": [
       "<div>\n",
       "<style scoped>\n",
       "    .dataframe tbody tr th:only-of-type {\n",
       "        vertical-align: middle;\n",
       "    }\n",
       "\n",
       "    .dataframe tbody tr th {\n",
       "        vertical-align: top;\n",
       "    }\n",
       "\n",
       "    .dataframe thead th {\n",
       "        text-align: right;\n",
       "    }\n",
       "</style>\n",
       "<table border=\"1\" class=\"dataframe\">\n",
       "  <thead>\n",
       "    <tr style=\"text-align: right;\">\n",
       "      <th></th>\n",
       "      <th>Unnamed: 0</th>\n",
       "      <th>match id</th>\n",
       "      <th>series id</th>\n",
       "      <th>end time</th>\n",
       "      <th>duration (s)</th>\n",
       "      <th>mode</th>\n",
       "      <th>map</th>\n",
       "      <th>team</th>\n",
       "      <th>player</th>\n",
       "      <th>win?</th>\n",
       "      <th>...</th>\n",
       "      <th>ctrl firstdeaths</th>\n",
       "      <th>ctrl captures</th>\n",
       "      <th>2-piece</th>\n",
       "      <th>3-piece</th>\n",
       "      <th>4-piece</th>\n",
       "      <th>4-streak</th>\n",
       "      <th>5-streak</th>\n",
       "      <th>6-streak</th>\n",
       "      <th>7-streak</th>\n",
       "      <th>8+-streak</th>\n",
       "    </tr>\n",
       "  </thead>\n",
       "  <tbody>\n",
       "    <tr>\n",
       "      <th>0</th>\n",
       "      <td>0</td>\n",
       "      <td>missing-pro-w1-1-map-1</td>\n",
       "      <td>pro-w1-1</td>\n",
       "      <td>2019-02-04 18:22:38 UTC</td>\n",
       "      <td>446</td>\n",
       "      <td>Hardpoint</td>\n",
       "      <td>Arsenal</td>\n",
       "      <td>Reciprocity</td>\n",
       "      <td>Denz</td>\n",
       "      <td>L</td>\n",
       "      <td>...</td>\n",
       "      <td>0</td>\n",
       "      <td>0</td>\n",
       "      <td>0</td>\n",
       "      <td>0</td>\n",
       "      <td>0</td>\n",
       "      <td>0</td>\n",
       "      <td>0</td>\n",
       "      <td>0</td>\n",
       "      <td>0</td>\n",
       "      <td>0</td>\n",
       "    </tr>\n",
       "    <tr>\n",
       "      <th>1</th>\n",
       "      <td>1</td>\n",
       "      <td>missing-pro-w1-1-map-1</td>\n",
       "      <td>pro-w1-1</td>\n",
       "      <td>2019-02-04 18:22:38 UTC</td>\n",
       "      <td>446</td>\n",
       "      <td>Hardpoint</td>\n",
       "      <td>Arsenal</td>\n",
       "      <td>Reciprocity</td>\n",
       "      <td>Seany</td>\n",
       "      <td>L</td>\n",
       "      <td>...</td>\n",
       "      <td>0</td>\n",
       "      <td>0</td>\n",
       "      <td>0</td>\n",
       "      <td>0</td>\n",
       "      <td>0</td>\n",
       "      <td>0</td>\n",
       "      <td>0</td>\n",
       "      <td>0</td>\n",
       "      <td>0</td>\n",
       "      <td>0</td>\n",
       "    </tr>\n",
       "  </tbody>\n",
       "</table>\n",
       "<p>2 rows × 62 columns</p>\n",
       "</div>"
      ],
      "text/plain": [
       "   Unnamed: 0                match id series id                 end time  \\\n",
       "0           0  missing-pro-w1-1-map-1  pro-w1-1  2019-02-04 18:22:38 UTC   \n",
       "1           1  missing-pro-w1-1-map-1  pro-w1-1  2019-02-04 18:22:38 UTC   \n",
       "\n",
       "   duration (s)       mode      map         team player win?  ...  \\\n",
       "0           446  Hardpoint  Arsenal  Reciprocity   Denz    L  ...   \n",
       "1           446  Hardpoint  Arsenal  Reciprocity  Seany    L  ...   \n",
       "\n",
       "   ctrl firstdeaths  ctrl captures  2-piece  3-piece  4-piece  4-streak  \\\n",
       "0                 0              0        0        0        0         0   \n",
       "1                 0              0        0        0        0         0   \n",
       "\n",
       "   5-streak  6-streak  7-streak  8+-streak  \n",
       "0         0         0         0          0  \n",
       "1         0         0         0          0  \n",
       "\n",
       "[2 rows x 62 columns]"
      ]
     },
     "execution_count": 3,
     "metadata": {},
     "output_type": "execute_result"
    }
   ],
   "source": [
    "pl1 = pd.read_csv('data_imports/proleague1.csv')\n",
    "pl1.head(2)"
   ]
  },
  {
   "cell_type": "code",
   "execution_count": 60,
   "metadata": {},
   "outputs": [],
   "source": [
    "hp = pl1[pl1['mode'] == \"Hardpoint\"][:]\n",
    "hp_variables = ['match id', 'mode', 'map', 'team', 'player', 'score']\n",
    "hpv = hp[hp_variables].copy()"
   ]
  },
  {
   "cell_type": "code",
   "execution_count": 26,
   "metadata": {},
   "outputs": [],
   "source": [
    "min_score = pd.DataFrame(hpv.groupby(['match id', 'map'])['score'].min())"
   ]
  },
  {
   "cell_type": "code",
   "execution_count": 27,
   "metadata": {},
   "outputs": [],
   "source": [
    "min_score['differential'] = 250-min_score['score']"
   ]
  },
  {
   "cell_type": "code",
   "execution_count": 28,
   "metadata": {},
   "outputs": [],
   "source": [
    "dif_by_map = min_score.groupby('map')['differential'].mean()"
   ]
  },
  {
   "cell_type": "code",
   "execution_count": 22,
   "metadata": {},
   "outputs": [
    {
     "data": {
      "text/plain": [
       "Text(0.5, 1.0, 'Avg Score Differential by Map')"
      ]
     },
     "execution_count": 22,
     "metadata": {},
     "output_type": "execute_result"
    },
    {
     "data": {
      "image/png": "[encoded data removed]",
      "text/plain": [
       "<Figure size 432x288 with 1 Axes>"
      ]
     },
     "metadata": {
      "needs_background": "light"
     },
     "output_type": "display_data"
    }
   ],
   "source": [
    "dif_by_map.plot(kind='bar')\n",
    "plt.xlabel('Map')\n",
    "plt.ylabel('Average Score Differential')\n",
    "plt.title('Avg Score Differential by Map')"
   ]
  },
  {
   "cell_type": "markdown",
   "metadata": {},
   "source": [
    "Now that we can see that there is a noticable difference between the average score differentials per match, lets take a look at different variables and see if we can idenify some that could be contributing to the deviation by map."
   ]
  },
  {
   "cell_type": "code",
   "execution_count": 34,
   "metadata": {},
   "outputs": [
    {
     "data": {
      "text/plain": [
       "Index(['Unnamed: 0', 'match id', 'series id', 'end time', 'duration (s)',\n",
       "       'mode', 'map', 'team', 'player', 'win?', 'score', 'kills', 'deaths',\n",
       "       '+/-', 'k/d', 'kills per 10min', 'deaths per 10min', 'player score',\n",
       "       'player spm', 'ekia', 'assists', 'headshots', 'suicides', 'team kills',\n",
       "       'team deaths', 'kills (stayed alive)', 'hits', 'shots', 'accuracy (%)',\n",
       "       'num lives', 'time alive (s)', 'avg time per life (s)', 'fave weapon',\n",
       "       'fave specialist', 'fave scorestreaks', 'hill time (s)',\n",
       "       'hill captures', 'hill defends', 'snd rounds', 'snd firstbloods',\n",
       "       'snd firstdeaths', 'snd survives', 'bomb pickups', 'bomb plants',\n",
       "       'bomb defuses', 'bomb sneak defuses', 'snd 1-kill round',\n",
       "       'snd 2-kill round', 'snd 3-kill round', 'snd 4-kill round',\n",
       "       'ctrl rounds', 'ctrl firstbloods', 'ctrl firstdeaths', 'ctrl captures',\n",
       "       '2-piece', '3-piece', '4-piece', '4-streak', '5-streak', '6-streak',\n",
       "       '7-streak', '8+-streak'],\n",
       "      dtype='object')"
      ]
     },
     "execution_count": 34,
     "metadata": {},
     "output_type": "execute_result"
    }
   ],
   "source": [
    "hp.columns"
   ]
  },
  {
   "cell_type": "code",
   "execution_count": 62,
   "metadata": {},
   "outputs": [
    {
     "data": {
      "text/plain": [
       "Index(['Unnamed: 0', 'match id', 'series id', 'end time', 'duration (s)',\n",
       "       'mode', 'map', 'team', 'player', 'win?', 'score', 'kills', 'deaths',\n",
       "       '+/-', 'k/d', 'kills per 10min', 'deaths per 10min', 'player score',\n",
       "       'player spm', 'ekia', 'assists', 'headshots', 'suicides', 'team kills',\n",
       "       'team deaths', 'kills (stayed alive)', 'hits', 'shots', 'accuracy (%)',\n",
       "       'num lives', 'time alive (s)', 'avg time per life (s)', 'fave weapon',\n",
       "       'fave specialist', 'fave scorestreaks', 'hill time (s)',\n",
       "       'hill captures', 'hill defends', 'bomb pickups', 'bomb plants',\n",
       "       'bomb defuses', 'bomb sneak defuses', '2-piece', '3-piece', '4-piece',\n",
       "       '4-streak', '5-streak', '6-streak', '7-streak', '8+-streak'],\n",
       "      dtype='object')"
      ]
     },
     "execution_count": 62,
     "metadata": {},
     "output_type": "execute_result"
    }
   ],
   "source": [
    "for x in ['ctrl', 'snd']:    \n",
    "    hp.drop(hp.filter(like=x).columns, inplace=True, axis = 1)"
   ]
  },
  {
   "cell_type": "code",
   "execution_count": 73,
   "metadata": {},
   "outputs": [
    {
     "data": {
      "text/plain": [
       "win?  map      \n",
       "L     Arsenal      5.344444\n",
       "      Frequency    6.008696\n",
       "      Gridlock     5.090909\n",
       "      Hacienda     6.833333\n",
       "      Seaside      5.412500\n",
       "W     Arsenal      5.144444\n",
       "      Frequency    5.600000\n",
       "      Gridlock     5.045455\n",
       "      Hacienda     5.633333\n",
       "      Seaside      5.987500\n",
       "Name: hill defends, dtype: float64"
      ]
     },
     "execution_count": 73,
     "metadata": {},
     "output_type": "execute_result"
    }
   ],
   "source": [
    "hp.groupby(['win?', 'map'])['hill defends'].mean()"
   ]
  },
  {
   "cell_type": "code",
   "execution_count": null,
   "metadata": {},
   "outputs": [],
   "source": [
    "hp.groupby(['win? == 'Yes'])['hill defends'].mean()"
   ]
  }
 ],
 "metadata": {
  "kernelspec": {
   "display_name": "Python 3",
   "language": "python",
   "name": "python3"
  },
  "language_info": {
   "codemirror_mode": {
    "name": "ipython",
    "version": 3
   },
   "file_extension": ".py",
   "mimetype": "text/x-python",
   "name": "python",
   "nbconvert_exporter": "python",
   "pygments_lexer": "ipython3",
   "version": "3.7.3"
  }
 },
 "nbformat": 4,
 "nbformat_minor": 2
}
